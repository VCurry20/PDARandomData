{
 "cells": [
  {
   "cell_type": "markdown",
   "id": "487d0e79",
   "metadata": {},
   "source": [
    "    Project"
   ]
  },
  {
   "cell_type": "markdown",
   "id": "60935519",
   "metadata": {},
   "source": [
    "1. First look\n",
    "2. Trying different data sets\n",
    "3. Importing them to look at"
   ]
  },
  {
   "cell_type": "code",
   "execution_count": 6,
   "id": "e9aa2c68",
   "metadata": {},
   "outputs": [],
   "source": [
    "import pandas as pd"
   ]
  },
  {
   "cell_type": "code",
   "execution_count": 7,
   "id": "b5203084",
   "metadata": {},
   "outputs": [],
   "source": [
    "# df = pd.read_csv(\"http://health.gov.ie/wp-content/uploads/2017/05/Table-1.3-Births-and-fertility-Ireland-and-EU-28-2006-2015.csv\")"
   ]
  },
  {
   "cell_type": "markdown",
   "id": "62edb18f",
   "metadata": {},
   "source": [
    "caffine content\n",
    "\n",
    "https://www.kaggle.com/heitornunes/caffeine-content-of-drinks"
   ]
  },
  {
   "cell_type": "code",
   "execution_count": null,
   "id": "8769fbf3",
   "metadata": {},
   "outputs": [],
   "source": []
  },
  {
   "cell_type": "code",
   "execution_count": null,
   "id": "67156178",
   "metadata": {},
   "outputs": [],
   "source": []
  },
  {
   "cell_type": "code",
   "execution_count": null,
   "id": "813684d9",
   "metadata": {},
   "outputs": [],
   "source": []
  }
 ],
 "metadata": {
  "kernelspec": {
   "display_name": "Python 3",
   "language": "python",
   "name": "python3"
  },
  "language_info": {
   "codemirror_mode": {
    "name": "ipython",
    "version": 3
   },
   "file_extension": ".py",
   "mimetype": "text/x-python",
   "name": "python",
   "nbconvert_exporter": "python",
   "pygments_lexer": "ipython3",
   "version": "3.8.8"
  }
 },
 "nbformat": 4,
 "nbformat_minor": 5
}
